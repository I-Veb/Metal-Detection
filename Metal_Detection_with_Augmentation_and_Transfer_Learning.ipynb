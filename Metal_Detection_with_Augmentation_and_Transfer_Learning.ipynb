{
  "nbformat": 4,
  "nbformat_minor": 0,
  "metadata": {
    "colab": {
      "provenance": [],
      "gpuType": "T4"
    },
    "kernelspec": {
      "name": "python3",
      "display_name": "Python 3"
    },
    "language_info": {
      "name": "python"
    },
    "accelerator": "GPU"
  },
  "cells": [
    {
      "cell_type": "markdown",
      "source": [
        "**Data Loading**"
      ],
      "metadata": {
        "id": "vshXIQNZAEjj"
      }
    },
    {
      "cell_type": "code",
      "source": [
        "import tensorflow as tf\n",
        "from tensorflow.keras.applications import VGG16\n",
        "from tensorflow.keras.layers import Dense, Flatten\n",
        "from tensorflow.keras.models import Model\n",
        "from tensorflow.keras.optimizers import Adam\n",
        "from tensorflow.keras.preprocessing.image import ImageDataGenerator"
      ],
      "metadata": {
        "id": "FIflR4DZAJjk"
      },
      "execution_count": 7,
      "outputs": []
    },
    {
      "cell_type": "code",
      "source": [
        "# Data preparation\n",
        "data_dir = '/content/drive/MyDrive/Dataset_Metal/Dataset'\n",
        "img_height, img_width = 224, 224  # VGG16 default input size\n",
        "batch_size = 32"
      ],
      "metadata": {
        "id": "vZAUyFRhEBwZ"
      },
      "execution_count": 8,
      "outputs": []
    },
    {
      "cell_type": "code",
      "source": [
        "# Data augmentation and preprocessing\n",
        "train_datagen = ImageDataGenerator(\n",
        "    rescale=1./255,\n",
        "    rotation_range=20,\n",
        "    width_shift_range=0.2,\n",
        "    height_shift_range=0.2,\n",
        "    shear_range=0.2,\n",
        "    zoom_range=0.2,\n",
        "    horizontal_flip=True,\n",
        "    validation_split=0.2\n",
        ")\n",
        "\n",
        "train_generator = train_datagen.flow_from_directory(\n",
        "    data_dir,\n",
        "    target_size=(img_height, img_width),\n",
        "    batch_size=batch_size,\n",
        "    class_mode='binary',\n",
        "    subset='training'\n",
        ")\n",
        "\n",
        "validation_generator = train_datagen.flow_from_directory(\n",
        "    data_dir,\n",
        "    target_size=(img_height, img_width),\n",
        "    batch_size=batch_size,\n",
        "    class_mode='binary',\n",
        "    subset='validation'\n",
        ")"
      ],
      "metadata": {
        "colab": {
          "base_uri": "https://localhost:8080/"
        },
        "id": "AJR6MsgkEEed",
        "outputId": "0bc07dc9-75fe-4e20-b873-a29f55b3421b"
      },
      "execution_count": 9,
      "outputs": [
        {
          "output_type": "stream",
          "name": "stdout",
          "text": [
            "Found 259 images belonging to 2 classes.\n",
            "Found 63 images belonging to 2 classes.\n"
          ]
        }
      ]
    },
    {
      "cell_type": "code",
      "source": [
        "# Transfer Learning: Load pre-trained VGG16 model\n",
        "base_model = VGG16(weights='imagenet', include_top=False, input_shape=(img_height, img_width, 3))\n",
        "base_model.trainable = False"
      ],
      "metadata": {
        "id": "GzihRVZnEHCO"
      },
      "execution_count": 10,
      "outputs": []
    },
    {
      "cell_type": "code",
      "source": [
        "# Add custom layers\n",
        "x = base_model.output\n",
        "x = Flatten()(x)\n",
        "x = Dense(512, activation='relu')(x)\n",
        "x = Dense(256, activation='relu')(x)\n",
        "output = Dense(1, activation='sigmoid')(x)"
      ],
      "metadata": {
        "id": "hNbs6GsuEJA1"
      },
      "execution_count": 11,
      "outputs": []
    },
    {
      "cell_type": "code",
      "source": [
        "model = Model(inputs=base_model.input, outputs=output)"
      ],
      "metadata": {
        "id": "13N20JH5ELHv"
      },
      "execution_count": 12,
      "outputs": []
    },
    {
      "cell_type": "code",
      "source": [
        "# Compile the model\n",
        "model.compile(optimizer=Adam(learning_rate=0.0001),\n",
        "              loss='binary_crossentropy',\n",
        "              metrics=['accuracy'])"
      ],
      "metadata": {
        "id": "UFX6x1CzENSu"
      },
      "execution_count": 13,
      "outputs": []
    },
    {
      "cell_type": "code",
      "source": [
        "# Train the model\n",
        "epochs = 10\n",
        "history = model.fit(\n",
        "    train_generator,\n",
        "    steps_per_epoch=train_generator.samples // batch_size,\n",
        "    epochs=epochs,\n",
        "    validation_data=validation_generator,\n",
        "    validation_steps=validation_generator.samples // batch_size\n",
        ")\n",
        "\n",
        "# Evaluate the model\n",
        "test_generator = train_datagen.flow_from_directory(\n",
        "    data_dir,\n",
        "    target_size=(img_height, img_width),\n",
        "    batch_size=batch_size,\n",
        "    class_mode='binary',\n",
        "    subset='validation',\n",
        "    shuffle=False\n",
        ")"
      ],
      "metadata": {
        "colab": {
          "base_uri": "https://localhost:8080/"
        },
        "id": "c66-Ar4TIzud",
        "outputId": "d4e167a8-27e4-4e82-da07-bcd01474765c"
      },
      "execution_count": 15,
      "outputs": [
        {
          "output_type": "stream",
          "name": "stdout",
          "text": [
            "Epoch 1/10\n",
            "8/8 [==============================] - 165s 21s/step - loss: 0.6397 - accuracy: 0.6916 - val_loss: 0.6170 - val_accuracy: 0.6875\n",
            "Epoch 2/10\n",
            "8/8 [==============================] - 185s 23s/step - loss: 0.5487 - accuracy: 0.7313 - val_loss: 0.5951 - val_accuracy: 0.5938\n",
            "Epoch 3/10\n",
            "8/8 [==============================] - 165s 21s/step - loss: 0.4646 - accuracy: 0.7621 - val_loss: 0.6609 - val_accuracy: 0.5625\n",
            "Epoch 4/10\n",
            "8/8 [==============================] - 169s 21s/step - loss: 0.4607 - accuracy: 0.7841 - val_loss: 0.4988 - val_accuracy: 0.7812\n",
            "Epoch 5/10\n",
            "8/8 [==============================] - 182s 23s/step - loss: 0.4129 - accuracy: 0.8477 - val_loss: 0.4021 - val_accuracy: 0.8125\n",
            "Epoch 6/10\n",
            "8/8 [==============================] - 166s 21s/step - loss: 0.3727 - accuracy: 0.8370 - val_loss: 0.5134 - val_accuracy: 0.6562\n",
            "Epoch 7/10\n",
            "8/8 [==============================] - 166s 21s/step - loss: 0.3394 - accuracy: 0.8414 - val_loss: 0.5162 - val_accuracy: 0.8125\n",
            "Epoch 8/10\n",
            "8/8 [==============================] - 167s 21s/step - loss: 0.3098 - accuracy: 0.8811 - val_loss: 0.4226 - val_accuracy: 0.8125\n",
            "Epoch 9/10\n",
            "8/8 [==============================] - 185s 23s/step - loss: 0.3012 - accuracy: 0.8458 - val_loss: 0.4256 - val_accuracy: 0.7812\n",
            "Epoch 10/10\n",
            "8/8 [==============================] - 166s 21s/step - loss: 0.2983 - accuracy: 0.8943 - val_loss: 0.6638 - val_accuracy: 0.7500\n",
            "Found 63 images belonging to 2 classes.\n"
          ]
        }
      ]
    },
    {
      "cell_type": "code",
      "source": [
        "test_loss, test_acc = model.evaluate(test_generator)\n",
        "print(f'Test accuracy: {test_acc}')"
      ],
      "metadata": {
        "colab": {
          "base_uri": "https://localhost:8080/"
        },
        "id": "2JtoSdCUI_F9",
        "outputId": "eaa87b9e-b3f9-4820-c559-dc3528df0ed5"
      },
      "execution_count": 16,
      "outputs": [
        {
          "output_type": "stream",
          "name": "stdout",
          "text": [
            "2/2 [==============================] - 38s 18s/step - loss: 0.6422 - accuracy: 0.6825\n",
            "Test accuracy: 0.682539701461792\n"
          ]
        }
      ]
    },
    {
      "cell_type": "code",
      "source": [
        "# Plot training history\n",
        "import matplotlib.pyplot as plt\n",
        "\n",
        "plt.figure(figsize=(12, 4))\n",
        "plt.subplot(1, 2, 1)\n",
        "plt.plot(history.history['accuracy'], label='Training Accuracy')\n",
        "plt.plot(history.history['val_accuracy'], label='Validation Accuracy')\n",
        "plt.title('Model Accuracy')\n",
        "plt.xlabel('Epoch')\n",
        "plt.ylabel('Accuracy')\n",
        "plt.legend()"
      ],
      "metadata": {
        "colab": {
          "base_uri": "https://localhost:8080/",
          "height": 428
        },
        "id": "HfwxZQkZRss3",
        "outputId": "eb144416-dd1a-49f0-f77d-a1e218fdefe6"
      },
      "execution_count": 17,
      "outputs": [
        {
          "output_type": "execute_result",
          "data": {
            "text/plain": [
              "<matplotlib.legend.Legend at 0x7d77e25e6cb0>"
            ]
          },
          "metadata": {},
          "execution_count": 17
        },
        {
          "output_type": "display_data",
          "data": {
            "text/plain": [
              "<Figure size 1200x400 with 1 Axes>"
            ],
            "image/png": "[encoded data removed]"
          },
          "metadata": {}
        }
      ]
    }
  ]
}